{
  "nbformat": 4,
  "nbformat_minor": 0,
  "metadata": {
    "colab": {
      "provenance": [],
      "authorship_tag": "ABX9TyN61Db0yb18Iin8ZLXRLT+I",
      "include_colab_link": true
    },
    "kernelspec": {
      "name": "python3",
      "display_name": "Python 3"
    },
    "language_info": {
      "name": "python"
    }
  },
  "cells": [
    {
      "cell_type": "markdown",
      "metadata": {
        "id": "view-in-github",
        "colab_type": "text"
      },
      "source": [
        "<a href=\"https://colab.research.google.com/github/AKASHPATI007/SQL-IMP-QUESTIONS/blob/main/SQL_IMP_QUES.ipynb\" target=\"_parent\"><img src=\"https://colab.research.google.com/assets/colab-badge.svg\" alt=\"Open In Colab\"/></a>"
      ]
    },
    {
      "cell_type": "code",
      "execution_count": null,
      "metadata": {
        "id": "2l51GxtI5L1L"
      },
      "outputs": [],
      "source": []
    },
    {
      "cell_type": "markdown",
      "source": [
        "**Basic:\n",
        "1. SELECT and WHERE for filtering and selection\n",
        "2. COUNT, SUM, MAX, GROUP BY, HAVING for aggregating data\"\n",
        "3. DISTINCT, COUNT DISTINCT for producing useful distinct lists and distinct aggregates\n",
        "4. OUTER (e.g. LEFT) and INNER JOIN when/where to use them\n",
        "5. Strings and time conversions\n",
        "6. UNION and UNION ALL.\n",
        "\n",
        "Intermediate:\n",
        "1. DML/DDL/DCL concepts\n",
        "2. Handling NULLs creatively (e.g. with COALESCE)\n",
        "3. Subqueries and the impact of subqueries on efficiency of the query\n",
        "4. Temporary tables\n",
        "5. Self joins\n",
        "6. Window functions like PARTITION, LEAD, LAG, NTILE\n",
        "7. UDFs (user defined functions)\n",
        "8. Use of indexes in querying to make operations faster.**\n"
      ],
      "metadata": {
        "id": "sNY-hh-Z5aFx"
      }
    },
    {
      "cell_type": "markdown",
      "source": [
        "**1. SELECT and WHERE for filtering and selection**"
      ],
      "metadata": {
        "id": "oacB5CXD6af4"
      }
    },
    {
      "cell_type": "markdown",
      "source": [
        "*KEY POINTS--*\n",
        "\n",
        "1. Use WHERE to specify conditions that records must meet in order to be included in a query’s results.\n",
        "\n",
        "2. Use AND, OR, and NOT to combine tests.\n",
        "\n",
        "3. Filtering is done on whole records, so conditions can use fields that are not actually displayed.\n",
        "\n",
        "4. Write queries incrementally.\n",
        "\n",
        "*Examples--*\n",
        "\n",
        "1. SELECT * FROM Visited WHERE site = 'DR-1';--# show all column\n",
        "2. SELECT id FROM Visited WHERE site = 'DR-1';--# show only id\n",
        "3. SELECT * FROM Visited WHERE site = 'DR-1' AND dated < '1930-01-01';\n",
        "4. SELECT * FROM Survey WHERE person = 'lake' OR person = 'roe';\n",
        "5. SELECT * FROM Survey WHERE person IN ('lake', 'roe');\n",
        "6. SELECT * FROM Survey WHERE quant = 'sal' AND person = 'lake' OR person = 'roe';--will give quant = sail,raid both\n",
        "7. SELECT * FROM Survey WHERE quant = 'sal' AND (person = 'lake' OR person = 'roe');---use this-- only give person with sail\n",
        "8. SELECT * FROM Visited WHERE site LIKE 'DR%';\n",
        "9. SELECT DISTINCT person, quant FROM Survey WHERE person = 'lake' OR person = 'roe';"
      ],
      "metadata": {
        "id": "IefKxncu6kg0"
      }
    },
    {
      "cell_type": "markdown",
      "source": [
        "*Some basic questions and solutions--*\n",
        "\n",
        "1. Suppose we want to select all sites that lie within 48 degrees of the equator.\n",
        "2. Normalized salinity readings are supposed to be between 0.0 and 1.0. Write a query that selects all records from Survey with salinity values outside this range.\n",
        "\n",
        "\n",
        "*Answers--*\n",
        "\n",
        "1. SELECT * FROM Site WHERE (lat > -48) AND (lat < 48);\n",
        "2. SELECT * FROM Survey WHERE quant = 'sal' AND ((reading > 1.0) OR (reading < 0.0));"
      ],
      "metadata": {
        "id": "1myciDUG9lfn"
      }
    },
    {
      "cell_type": "code",
      "source": [],
      "metadata": {
        "id": "Qp_8Z8Er5nGP"
      },
      "execution_count": null,
      "outputs": []
    }
  ]
}